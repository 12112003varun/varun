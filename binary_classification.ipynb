{
  "nbformat": 4,
  "nbformat_minor": 0,
  "metadata": {
    "colab": {
      "provenance": [],
      "authorship_tag": "ABX9TyN5Jyc2Afa93j+zjjy02mAv",
      "include_colab_link": true
    },
    "kernelspec": {
      "name": "python3",
      "display_name": "Python 3"
    },
    "language_info": {
      "name": "python"
    }
  },
  "cells": [
    {
      "cell_type": "markdown",
      "metadata": {
        "id": "view-in-github",
        "colab_type": "text"
      },
      "source": [
        "<a href=\"https://colab.research.google.com/github/12112003varun/varun/blob/main/binary_classification.ipynb\" target=\"_parent\"><img src=\"https://colab.research.google.com/assets/colab-badge.svg\" alt=\"Open In Colab\"/></a>"
      ]
    },
    {
      "cell_type": "code",
      "execution_count": 1,
      "metadata": {
        "colab": {
          "base_uri": "https://localhost:8080/"
        },
        "id": "Xq3huJ4cgXO6",
        "outputId": "7abaff94-9105-4104-8072-f5de50daa78a"
      },
      "outputs": [
        {
          "output_type": "stream",
          "name": "stdout",
          "text": [
            "Epoch 1/10\n",
            "20/20 [==============================] - 3s 43ms/step - loss: 0.6706 - accuracy: 0.6125 - val_loss: 0.6502 - val_accuracy: 0.6687\n",
            "Epoch 2/10\n",
            "20/20 [==============================] - 0s 15ms/step - loss: 0.6523 - accuracy: 0.6469 - val_loss: 0.6290 - val_accuracy: 0.6938\n",
            "Epoch 3/10\n",
            "20/20 [==============================] - 0s 21ms/step - loss: 0.6335 - accuracy: 0.6906 - val_loss: 0.6066 - val_accuracy: 0.7188\n",
            "Epoch 4/10\n",
            "20/20 [==============================] - 0s 11ms/step - loss: 0.6129 - accuracy: 0.7453 - val_loss: 0.5863 - val_accuracy: 0.7312\n",
            "Epoch 5/10\n",
            "20/20 [==============================] - 0s 7ms/step - loss: 0.5906 - accuracy: 0.7703 - val_loss: 0.5636 - val_accuracy: 0.7750\n",
            "Epoch 6/10\n",
            "20/20 [==============================] - 0s 18ms/step - loss: 0.5657 - accuracy: 0.8016 - val_loss: 0.5415 - val_accuracy: 0.8375\n",
            "Epoch 7/10\n",
            "20/20 [==============================] - 0s 18ms/step - loss: 0.5387 - accuracy: 0.8297 - val_loss: 0.5146 - val_accuracy: 0.8562\n",
            "Epoch 8/10\n",
            "20/20 [==============================] - 0s 16ms/step - loss: 0.5117 - accuracy: 0.8344 - val_loss: 0.4885 - val_accuracy: 0.8875\n",
            "Epoch 9/10\n",
            "20/20 [==============================] - 0s 16ms/step - loss: 0.4834 - accuracy: 0.8781 - val_loss: 0.4643 - val_accuracy: 0.8875\n",
            "Epoch 10/10\n",
            "20/20 [==============================] - 0s 14ms/step - loss: 0.4557 - accuracy: 0.8875 - val_loss: 0.4370 - val_accuracy: 0.9125\n",
            "7/7 [==============================] - 0s 6ms/step\n",
            "Test accuracy: 0.8950\n"
          ]
        }
      ],
      "source": [
        "#2.BINARY CLASSIFICATION\n",
        "import numpy as np\n",
        "import tensorflow as tf\n",
        "from tensorflow.keras.models import Sequential\n",
        "from tensorflow.keras.layers import Dense,Input\n",
        "from sklearn.model_selection import train_test_split\n",
        "from sklearn.metrics import accuracy_score\n",
        "np.random.seed(42)\n",
        "X = np.random.rand(1000, 2)\n",
        "y = (X[:, 0] + X[:, 1] > 1).astype(int)\n",
        "X_train, X_test, y_train, y_test = train_test_split(X, y, test_size=0.2, random_state=42)\n",
        "model = Sequential([Input(shape=(2)),Dense(64, activation='relu'),Dense(1, activation='sigmoid')])\n",
        "model.compile(optimizer='adam',loss='binary_crossentropy',metrics=['accuracy'])\n",
        "model.fit(X_train, y_train, epochs=10, batch_size=32, validation_split=0.2)\n",
        "y_pred = model.predict(X_test)\n",
        "y_pred_binary = (y_pred > 0.5).astype(int)\n",
        "test_accuracy = accuracy_score(y_test, y_pred_binary)\n",
        "print(f\"Test accuracy: {test_accuracy:.4f}\")"
      ]
    }
  ]
}